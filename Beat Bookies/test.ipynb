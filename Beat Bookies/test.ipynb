{
 "cells": [
  {
   "cell_type": "code",
   "execution_count": null,
   "metadata": {},
   "outputs": [],
   "source": [
    "from selenium import webdriver\n",
    "from selenium.webdriver.common.by import By\n",
    "from selenium.webdriver.support.ui import WebDriverWait\n",
    "from selenium.webdriver.support import expected_conditions as EC\n",
    "from bs4 import BeautifulSoup\n",
    "import pandas as pd\n"
   ]
  },
  {
   "cell_type": "code",
   "execution_count": null,
   "metadata": {},
   "outputs": [],
   "source": [
    "driver_path = 'lib/chromedriver.exe'\n"
   ]
  },
  {
   "cell_type": "code",
   "execution_count": null,
   "metadata": {},
   "outputs": [],
   "source": [
    "driver = webdriver.Chrome(driver_path)\n",
    "driver.maximize_window()\n",
    "driver.get('https://www.skysports.com/bundesliga-fixtures')\n",
    "# iframe = WebDriverWait(driver, 10).until(EC.presence_of_element_located((By.XPATH, \"//div[@class='message-container global-font']\")))\n",
    "# driver.switch_to.frame(iframe)\n",
    "# pop = WebDriverWait(driver, 5).until(EC.element_to_be_clickable((By.XPATH, \"//button[@class='message-component message-button no-children focusable sp_message-options-btn sp_choice_type_12 last-focusable-el']\")))\n",
    "# pop.click()\n",
    "# pop2 = WebDriverWait(driver, 5).until(EC.element_to_be_clickable((By.XPATH, \"//button[@class='message-component message-button no-children focusable  sp_priv-reject-btn sp_choice_type_REJECT_ALL first-focusable-el']\")))\n",
    "# pop2.click()\n",
    "# driver.switch_to.default_content()\n",
    "content = driver.page_source\n",
    "soup = BeautifulSoup(content)\n",
    "for div in soup.findAll('div', attrs={'class': 'fixres__item'}):\n",
    "    time = div.find('span', attrs={'class': 'matches__date'})\n",
    "    home = div.find('span', attrs={'class': 'matches__item-col matches__participant matches__participant--side1'})\n",
    "    home = home.find('span', attrs={'class': 'swap-text__target'})\n",
    "    away = div.find('span', attrs={'class': 'matches__item-col matches__participant matches__participant--side2'})\n",
    "    away = away.find('span', attrs={'class': 'swap-text__target'})\n",
    "    print(f\"{time.text.strip()} : {home.text} vs {away.text}\")\n"
   ]
  },
  {
   "cell_type": "code",
   "execution_count": null,
   "metadata": {},
   "outputs": [],
   "source": [
    "divi = div.find('span', attrs={'class': 'matches__item-col matches__participant matches__participant--side1'})"
   ]
  },
  {
   "cell_type": "code",
   "execution_count": null,
   "metadata": {},
   "outputs": [],
   "source": [
    "divi.find('span', attrs={'class': 'swap-text__target'}).text\n"
   ]
  },
  {
   "cell_type": "code",
   "execution_count": null,
   "metadata": {},
   "outputs": [],
   "source": []
  },
  {
   "cell_type": "code",
   "execution_count": 1,
   "metadata": {},
   "outputs": [],
   "source": [
    "import engine as eng\n",
    "\n",
    "leagues_full = ['bundesliga', 'premier-league', 'serie-a', 'la-liga']\n",
    "\n",
    "unplayed = eng.get_matches_left(leagues_full)"
   ]
  },
  {
   "cell_type": "code",
   "execution_count": 3,
   "metadata": {},
   "outputs": [
    {
     "data": {
      "text/html": [
       "<div>\n",
       "<style scoped>\n",
       "    .dataframe tbody tr th:only-of-type {\n",
       "        vertical-align: middle;\n",
       "    }\n",
       "\n",
       "    .dataframe tbody tr th {\n",
       "        vertical-align: top;\n",
       "    }\n",
       "\n",
       "    .dataframe thead th {\n",
       "        text-align: right;\n",
       "    }\n",
       "</style>\n",
       "<table border=\"1\" class=\"dataframe\">\n",
       "  <thead>\n",
       "    <tr style=\"text-align: right;\">\n",
       "      <th></th>\n",
       "      <th>Date</th>\n",
       "      <th>Time</th>\n",
       "      <th>League</th>\n",
       "      <th>Home</th>\n",
       "      <th>Away</th>\n",
       "    </tr>\n",
       "  </thead>\n",
       "  <tbody>\n",
       "    <tr>\n",
       "      <th>0</th>\n",
       "      <td></td>\n",
       "      <td>14:30</td>\n",
       "      <td>Bundesliga</td>\n",
       "      <td>Bayer Leverkusen</td>\n",
       "      <td>Cologne</td>\n",
       "    </tr>\n",
       "    <tr>\n",
       "      <th>1</th>\n",
       "      <td></td>\n",
       "      <td>16:30</td>\n",
       "      <td>Bundesliga</td>\n",
       "      <td>Borussia Dortmund</td>\n",
       "      <td>Arminia Bielefeld</td>\n",
       "    </tr>\n",
       "    <tr>\n",
       "      <th>2</th>\n",
       "      <td></td>\n",
       "      <td>16:30</td>\n",
       "      <td>Bundesliga</td>\n",
       "      <td>Eintracht Frankfurt</td>\n",
       "      <td>Bochum</td>\n",
       "    </tr>\n",
       "    <tr>\n",
       "      <th>3</th>\n",
       "      <td></td>\n",
       "      <td>18:30</td>\n",
       "      <td>Bundesliga</td>\n",
       "      <td>Greuther Furth</td>\n",
       "      <td>RB Leipzig</td>\n",
       "    </tr>\n",
       "    <tr>\n",
       "      <th>4</th>\n",
       "      <td></td>\n",
       "      <td>17:30</td>\n",
       "      <td>Bundesliga</td>\n",
       "      <td>Mainz</td>\n",
       "      <td>Borussia Dortmund</td>\n",
       "    </tr>\n",
       "    <tr>\n",
       "      <th>...</th>\n",
       "      <td>...</td>\n",
       "      <td>...</td>\n",
       "      <td>...</td>\n",
       "      <td>...</td>\n",
       "      <td>...</td>\n",
       "    </tr>\n",
       "    <tr>\n",
       "      <th>72</th>\n",
       "      <td></td>\n",
       "      <td>14:30</td>\n",
       "      <td>Bundesliga</td>\n",
       "      <td>FC Augsburg</td>\n",
       "      <td>Greuther Furth</td>\n",
       "    </tr>\n",
       "    <tr>\n",
       "      <th>73</th>\n",
       "      <td></td>\n",
       "      <td>14:30</td>\n",
       "      <td>Bundesliga</td>\n",
       "      <td>M'gladbach</td>\n",
       "      <td>Hoffenheim</td>\n",
       "    </tr>\n",
       "    <tr>\n",
       "      <th>74</th>\n",
       "      <td></td>\n",
       "      <td>14:30</td>\n",
       "      <td>Bundesliga</td>\n",
       "      <td>Mainz</td>\n",
       "      <td>Eintracht Frankfurt</td>\n",
       "    </tr>\n",
       "    <tr>\n",
       "      <th>75</th>\n",
       "      <td></td>\n",
       "      <td>14:30</td>\n",
       "      <td>Bundesliga</td>\n",
       "      <td>Stuttgart</td>\n",
       "      <td>Cologne</td>\n",
       "    </tr>\n",
       "    <tr>\n",
       "      <th>76</th>\n",
       "      <td></td>\n",
       "      <td>14:30</td>\n",
       "      <td>Bundesliga</td>\n",
       "      <td>Wolfsburg</td>\n",
       "      <td>Bayern Munich</td>\n",
       "    </tr>\n",
       "  </tbody>\n",
       "</table>\n",
       "<p>77 rows × 5 columns</p>\n",
       "</div>"
      ],
      "text/plain": [
       "   Date   Time      League                 Home                 Away\n",
       "0        14:30  Bundesliga     Bayer Leverkusen              Cologne\n",
       "1        16:30  Bundesliga    Borussia Dortmund    Arminia Bielefeld\n",
       "2        16:30  Bundesliga  Eintracht Frankfurt               Bochum\n",
       "3        18:30  Bundesliga       Greuther Furth           RB Leipzig\n",
       "4        17:30  Bundesliga                Mainz    Borussia Dortmund\n",
       "..  ...    ...         ...                  ...                  ...\n",
       "72       14:30  Bundesliga          FC Augsburg       Greuther Furth\n",
       "73       14:30  Bundesliga           M'gladbach           Hoffenheim\n",
       "74       14:30  Bundesliga                Mainz  Eintracht Frankfurt\n",
       "75       14:30  Bundesliga            Stuttgart              Cologne\n",
       "76       14:30  Bundesliga            Wolfsburg        Bayern Munich\n",
       "\n",
       "[77 rows x 5 columns]"
      ]
     },
     "execution_count": 3,
     "metadata": {},
     "output_type": "execute_result"
    }
   ],
   "source": [
    "unplayed[unplayed.League == 'Bundesliga']"
   ]
  },
  {
   "cell_type": "code",
   "execution_count": null,
   "metadata": {},
   "outputs": [],
   "source": []
  }
 ],
 "metadata": {
  "interpreter": {
   "hash": "b3ba2566441a7c06988d0923437866b63cedc61552a5af99d1f4fb67d367b25f"
  },
  "kernelspec": {
   "display_name": "Python 3.8.3 64-bit ('base': conda)",
   "language": "python",
   "name": "python3"
  },
  "language_info": {
   "codemirror_mode": {
    "name": "ipython",
    "version": 3
   },
   "file_extension": ".py",
   "mimetype": "text/x-python",
   "name": "python",
   "nbconvert_exporter": "python",
   "pygments_lexer": "ipython3",
   "version": "3.8.3"
  },
  "orig_nbformat": 4
 },
 "nbformat": 4,
 "nbformat_minor": 2
}
